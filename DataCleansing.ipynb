{
 "cells": [
  {
   "cell_type": "markdown",
   "metadata": {},
   "source": [
    "# Reading CSV file and removing columns that are not necessary\n"
   ]
  },
  {
   "cell_type": "code",
   "execution_count": null,
   "metadata": {
    "collapsed": false
   },
   "outputs": [],
   "source": [
    "# Ask user to enter file in which columns have to be removed\n",
    "import pandas as pd\n",
    "import numpy as np\n",
    "\n",
    "file_name = input(\"Please enter a csv file destination\")\n",
    "print(\"File that has columns which are to be removed: \\n\",file_name)\n",
    "\n",
    "num_str = input(\"Please enter the number of columns that you want to delete\")\n",
    "col_names = []\n",
    "num = int(num_str)\n",
    "\n",
    "# add user input to a list\n",
    "while len(col_names) < num:\n",
    "    name = input(\"Column name: \")\n",
    "    col_names.append(name)\n",
    "print(col_names)\n",
    "\n",
    "#read csv file into a data frame\n",
    "df = pd.read_csv(file_name)\n",
    "#drop columns\n",
    "data = df.drop(col_names,axis=1)\n",
    "\n",
    "#save as new file\n",
    "new_file_name = input(\"Please enter the new filename in which modified CSV has to be written\")\n",
    "print(\"The new file name is: \", new_file_name)\n",
    "\n",
    "data.to_csv(new_file_name, sep=',', index=None, encoding='utf-8')\n",
    "\n"
   ]
  },
  {
   "cell_type": "code",
   "execution_count": null,
   "metadata": {
    "collapsed": true
   },
   "outputs": [],
   "source": []
  }
 ],
 "metadata": {
  "kernelspec": {
   "display_name": "Python [Root]",
   "language": "python",
   "name": "Python [Root]"
  },
  "language_info": {
   "codemirror_mode": {
    "name": "ipython",
    "version": 3
   },
   "file_extension": ".py",
   "mimetype": "text/x-python",
   "name": "python",
   "nbconvert_exporter": "python",
   "pygments_lexer": "ipython3",
   "version": "3.5.2"
  }
 },
 "nbformat": 4,
 "nbformat_minor": 0
}
